{
 "cells": [
  {
   "cell_type": "code",
   "execution_count": 1,
   "id": "fd24cb1c",
   "metadata": {},
   "outputs": [],
   "source": [
    "import tensorflow as tf"
   ]
  },
  {
   "cell_type": "code",
   "execution_count": 2,
   "id": "8145e2b2",
   "metadata": {},
   "outputs": [],
   "source": [
    "import numpy as np"
   ]
  },
  {
   "cell_type": "code",
   "execution_count": 3,
   "id": "e2ca5e95",
   "metadata": {},
   "outputs": [],
   "source": [
    "from tensorflow.keras.preprocessing.image import ImageDataGenerator"
   ]
  },
  {
   "cell_type": "code",
   "execution_count": 4,
   "id": "ad87545e",
   "metadata": {},
   "outputs": [
    {
     "data": {
      "text/plain": [
       "'2.14.0'"
      ]
     },
     "execution_count": 4,
     "metadata": {},
     "output_type": "execute_result"
    }
   ],
   "source": [
    "tf.__version__"
   ]
  },
  {
   "cell_type": "code",
   "execution_count": 5,
   "id": "5ea35835",
   "metadata": {},
   "outputs": [
    {
     "name": "stdout",
     "output_type": "stream",
     "text": [
      "WARNING:tensorflow:From /var/folders/w5/y4zxnb0130zgls3vnryxcytr0000gn/T/ipykernel_11233/602917408.py:2: is_gpu_available (from tensorflow.python.framework.test_util) is deprecated and will be removed in a future version.\n",
      "Instructions for updating:\n",
      "Use `tf.config.list_physical_devices('GPU')` instead.\n"
     ]
    },
    {
     "data": {
      "text/plain": [
       "False"
      ]
     },
     "execution_count": 5,
     "metadata": {},
     "output_type": "execute_result"
    }
   ],
   "source": [
    "## Check GPU Enabled\n",
    "tf.test.is_gpu_available()"
   ]
  },
  {
   "cell_type": "code",
   "execution_count": 6,
   "id": "487046c4",
   "metadata": {},
   "outputs": [],
   "source": [
    "#pip install --upgrade tensorflow-gpu\n"
   ]
  },
  {
   "cell_type": "markdown",
   "id": "6c92d9ed",
   "metadata": {},
   "source": [
    "## 2 very Important Preprocessing is Resizing and Rescaling "
   ]
  },
  {
   "cell_type": "markdown",
   "id": "0c70c7f5",
   "metadata": {},
   "source": [
    "## Data Augmentation "
   ]
  },
  {
   "cell_type": "markdown",
   "id": "073d1af3",
   "metadata": {},
   "source": [
    "## Data augmentation is a technique of artificially increasing the training set by creating modified copies of a dataset using existing data"
   ]
  },
  {
   "cell_type": "code",
   "execution_count": 7,
   "id": "05e07c20",
   "metadata": {},
   "outputs": [],
   "source": [
    "## Scaling-- Picture Range from 0 to 255. So scale the Image to /255"
   ]
  },
  {
   "cell_type": "code",
   "execution_count": 8,
   "id": "8b4b7f79",
   "metadata": {},
   "outputs": [],
   "source": [
    "batch_size=6\n"
   ]
  },
  {
   "cell_type": "code",
   "execution_count": 9,
   "id": "737b4989",
   "metadata": {},
   "outputs": [],
   "source": [
    "training_datagenerator=ImageDataGenerator(rescale=1/255,horizontal_flip=True,vertical_flip=True,shear_range=0.0,\n",
    "                                          zoom_range=0.2,width_shift_range=0.2,height_shift_range=0.2,validation_split=0.1)"
   ]
  },
  {
   "cell_type": "code",
   "execution_count": 10,
   "id": "5090f6d9",
   "metadata": {},
   "outputs": [
    {
     "data": {
      "text/plain": [
       "<keras.src.preprocessing.image.ImageDataGenerator at 0x1388f23d0>"
      ]
     },
     "execution_count": 10,
     "metadata": {},
     "output_type": "execute_result"
    }
   ],
   "source": [
    "training_datagenerator"
   ]
  },
  {
   "cell_type": "code",
   "execution_count": 11,
   "id": "45cb68e3",
   "metadata": {},
   "outputs": [],
   "source": [
    "## Training our Data into Training and Validation"
   ]
  },
  {
   "cell_type": "code",
   "execution_count": 12,
   "id": "5ef51258",
   "metadata": {},
   "outputs": [
    {
     "name": "stdout",
     "output_type": "stream",
     "text": [
      "Found 135 images belonging to 2 classes.\n",
      "Found 14 images belonging to 2 classes.\n"
     ]
    }
   ],
   "source": [
    "train=training_datagenerator.flow_from_directory('/Users/vallirajasekar/Desktop/Deep_Learning/Image_Project/Smoke Fire Learning Project/Image/Training_Data',target_size=(223,224)\n",
    "                                                ,color_mode='rgb',class_mode='binary',batch_size=batch_size,subset='training')\n",
    "validation=training_datagenerator.flow_from_directory('/Users/vallirajasekar/Desktop/Deep_Learning/Image_Project/Smoke Fire Learning Project/Image/Training_Data',target_size=(224,224)\n",
    "                                                ,color_mode='rgb',class_mode='binary',batch_size=batch_size,subset='validation')"
   ]
  },
  {
   "cell_type": "markdown",
   "id": "f22b2c42",
   "metadata": {},
   "source": [
    "## CNN architecture "
   ]
  },
  {
   "cell_type": "markdown",
   "id": "c39b6bd1",
   "metadata": {},
   "source": [
    "## The activation function decides whether a neuron should be activated or not by calculating the weighted sum and further adding bias to it"
   ]
  },
  {
   "cell_type": "markdown",
   "id": "2fb7fc2a",
   "metadata": {},
   "source": [
    "## Padding is a critical technique used to manage the spatial dimensions of input data. Padding is the process of adding layers of zeros or other values outside the actual data in an input matrix. The primary purpose of padding is to preserve the spatial size of the input so that the output after applying filters (kernels) remains the same size, or to adjust it according to the desired output dimensions."
   ]
  },
  {
   "cell_type": "markdown",
   "id": "68815bd4",
   "metadata": {},
   "source": [
    "## In convolutional neural networks (CNNs), the pooling layer is a common type of layer that is typically added after convolutional layers. The pooling layer is used to reduce the spatial dimensions (i.e., the width and height) of the feature maps, while preserving the depth (i.e., the number of channels)"
   ]
  },
  {
   "cell_type": "markdown",
   "id": "0b68793d",
   "metadata": {},
   "source": [
    "## Units mean how many Nuerons"
   ]
  },
  {
   "cell_type": "code",
   "execution_count": 13,
   "id": "d5613c5b",
   "metadata": {},
   "outputs": [],
   "source": [
    "# Initializing the CNN\n",
    "cnn=tf.keras.models.Sequential()\n",
    "\n",
    "# Adding First Layer\n",
    "cnn.add(tf.keras.layers.Conv2D(filters=32,kernel_size=3,activation='relu',input_shape=[224,224,3],padding='same'))\n",
    "cnn.add(tf.keras.layers.MaxPool2D(pool_size=2))\n",
    "\n",
    "# Adding Second layer\n",
    "cnn.add(tf.keras.layers.Conv2D(filters=64,kernel_size=3,activation='relu',padding='same'))\n",
    "cnn.add(tf.keras.layers.MaxPool2D(pool_size=2))\n",
    "\n",
    "# Adding third layer\n",
    "cnn.add(tf.keras.layers.Conv2D(filters=124,kernel_size=3,activation='relu',padding='same'))\n",
    "cnn.add(tf.keras.layers.MaxPool2D(pool_size=2))\n",
    "\n",
    "## Flattening \n",
    "cnn.add(tf.keras.layers.Flatten())\n",
    "\n",
    "## Fully Connected layer \n",
    "\n",
    "cnn.add(tf.keras.layers.Dense(units=128,activation='relu'))\n",
    "\n",
    "## Output Layer\n",
    "cnn.add(tf.keras.layers.Dense(units=1,activation='sigmoid'))"
   ]
  },
  {
   "cell_type": "code",
   "execution_count": 14,
   "id": "69b78eda",
   "metadata": {},
   "outputs": [
    {
     "name": "stdout",
     "output_type": "stream",
     "text": [
      "Model: \"sequential\"\n",
      "_________________________________________________________________\n",
      " Layer (type)                Output Shape              Param #   \n",
      "=================================================================\n",
      " conv2d (Conv2D)             (None, 224, 224, 32)      896       \n",
      "                                                                 \n",
      " max_pooling2d (MaxPooling2  (None, 112, 112, 32)      0         \n",
      " D)                                                              \n",
      "                                                                 \n",
      " conv2d_1 (Conv2D)           (None, 112, 112, 64)      18496     \n",
      "                                                                 \n",
      " max_pooling2d_1 (MaxPoolin  (None, 56, 56, 64)        0         \n",
      " g2D)                                                            \n",
      "                                                                 \n",
      " conv2d_2 (Conv2D)           (None, 56, 56, 124)       71548     \n",
      "                                                                 \n",
      " max_pooling2d_2 (MaxPoolin  (None, 28, 28, 124)       0         \n",
      " g2D)                                                            \n",
      "                                                                 \n",
      " flatten (Flatten)           (None, 97216)             0         \n",
      "                                                                 \n",
      " dense (Dense)               (None, 128)               12443776  \n",
      "                                                                 \n",
      " dense_1 (Dense)             (None, 1)                 129       \n",
      "                                                                 \n",
      "=================================================================\n",
      "Total params: 12534845 (47.82 MB)\n",
      "Trainable params: 12534845 (47.82 MB)\n",
      "Non-trainable params: 0 (0.00 Byte)\n",
      "_________________________________________________________________\n"
     ]
    }
   ],
   "source": [
    "cnn.summary()"
   ]
  },
  {
   "cell_type": "markdown",
   "id": "a0daf647",
   "metadata": {},
   "source": [
    "## Time to Train our CNN Model "
   ]
  },
  {
   "cell_type": "markdown",
   "id": "a59ec85e",
   "metadata": {},
   "source": [
    "## Compile and Train"
   ]
  },
  {
   "cell_type": "code",
   "execution_count": 15,
   "id": "84be2a24",
   "metadata": {},
   "outputs": [],
   "source": [
    "checkpoint=tf.keras.callbacks.ModelCheckpoint('/Users/vallirajasekar/Desktop/Deep_Learning/Image_Project/Smoke Fire Learning Project/Model/fire_and_smoke_model.h5',\n",
    "                                              monitor='val_loss',save_best_only=True,mode='min')\n",
    "callbacks=[checkpoint]"
   ]
  },
  {
   "cell_type": "code",
   "execution_count": 16,
   "id": "f9d0117e",
   "metadata": {},
   "outputs": [
    {
     "name": "stdout",
     "output_type": "stream",
     "text": [
      "Epoch 1/10\n"
     ]
    },
    {
     "name": "stderr",
     "output_type": "stream",
     "text": [
      "/var/folders/w5/y4zxnb0130zgls3vnryxcytr0000gn/T/ipykernel_11233/1113602051.py:3: UserWarning: `Model.fit_generator` is deprecated and will be removed in a future version. Please use `Model.fit`, which supports generators.\n",
      "  cnn.fit_generator(train,validation_data=validation,epochs=10,\n"
     ]
    },
    {
     "ename": "InvalidArgumentError",
     "evalue": "Graph execution error:\n\nDetected at node sequential/dense/Relu defined at (most recent call last):\n  File \"<frozen runpy>\", line 198, in _run_module_as_main\n\n  File \"<frozen runpy>\", line 88, in _run_code\n\n  File \"/Applications/anaconda3/lib/python3.11/site-packages/ipykernel_launcher.py\", line 17, in <module>\n\n  File \"/Applications/anaconda3/lib/python3.11/site-packages/traitlets/config/application.py\", line 992, in launch_instance\n\n  File \"/Applications/anaconda3/lib/python3.11/site-packages/ipykernel/kernelapp.py\", line 736, in start\n\n  File \"/Applications/anaconda3/lib/python3.11/site-packages/tornado/platform/asyncio.py\", line 195, in start\n\n  File \"/Applications/anaconda3/lib/python3.11/asyncio/base_events.py\", line 607, in run_forever\n\n  File \"/Applications/anaconda3/lib/python3.11/asyncio/base_events.py\", line 1922, in _run_once\n\n  File \"/Applications/anaconda3/lib/python3.11/asyncio/events.py\", line 80, in _run\n\n  File \"/Applications/anaconda3/lib/python3.11/site-packages/ipykernel/kernelbase.py\", line 516, in dispatch_queue\n\n  File \"/Applications/anaconda3/lib/python3.11/site-packages/ipykernel/kernelbase.py\", line 505, in process_one\n\n  File \"/Applications/anaconda3/lib/python3.11/site-packages/ipykernel/kernelbase.py\", line 412, in dispatch_shell\n\n  File \"/Applications/anaconda3/lib/python3.11/site-packages/ipykernel/kernelbase.py\", line 740, in execute_request\n\n  File \"/Applications/anaconda3/lib/python3.11/site-packages/ipykernel/ipkernel.py\", line 422, in do_execute\n\n  File \"/Applications/anaconda3/lib/python3.11/site-packages/ipykernel/zmqshell.py\", line 546, in run_cell\n\n  File \"/Applications/anaconda3/lib/python3.11/site-packages/IPython/core/interactiveshell.py\", line 3024, in run_cell\n\n  File \"/Applications/anaconda3/lib/python3.11/site-packages/IPython/core/interactiveshell.py\", line 3079, in _run_cell\n\n  File \"/Applications/anaconda3/lib/python3.11/site-packages/IPython/core/async_helpers.py\", line 129, in _pseudo_sync_runner\n\n  File \"/Applications/anaconda3/lib/python3.11/site-packages/IPython/core/interactiveshell.py\", line 3284, in run_cell_async\n\n  File \"/Applications/anaconda3/lib/python3.11/site-packages/IPython/core/interactiveshell.py\", line 3466, in run_ast_nodes\n\n  File \"/Applications/anaconda3/lib/python3.11/site-packages/IPython/core/interactiveshell.py\", line 3526, in run_code\n\n  File \"/var/folders/w5/y4zxnb0130zgls3vnryxcytr0000gn/T/ipykernel_11233/1113602051.py\", line 3, in <module>\n\n  File \"/Applications/anaconda3/lib/python3.11/site-packages/keras/src/engine/training.py\", line 2889, in fit_generator\n\n  File \"/Applications/anaconda3/lib/python3.11/site-packages/keras/src/utils/traceback_utils.py\", line 65, in error_handler\n\n  File \"/Applications/anaconda3/lib/python3.11/site-packages/keras/src/engine/training.py\", line 1783, in fit\n\n  File \"/Applications/anaconda3/lib/python3.11/site-packages/keras/src/engine/training.py\", line 1377, in train_function\n\n  File \"/Applications/anaconda3/lib/python3.11/site-packages/keras/src/engine/training.py\", line 1360, in step_function\n\n  File \"/Applications/anaconda3/lib/python3.11/site-packages/keras/src/engine/training.py\", line 1349, in run_step\n\n  File \"/Applications/anaconda3/lib/python3.11/site-packages/keras/src/engine/training.py\", line 1126, in train_step\n\n  File \"/Applications/anaconda3/lib/python3.11/site-packages/keras/src/utils/traceback_utils.py\", line 65, in error_handler\n\n  File \"/Applications/anaconda3/lib/python3.11/site-packages/keras/src/engine/training.py\", line 589, in __call__\n\n  File \"/Applications/anaconda3/lib/python3.11/site-packages/keras/src/utils/traceback_utils.py\", line 65, in error_handler\n\n  File \"/Applications/anaconda3/lib/python3.11/site-packages/keras/src/engine/base_layer.py\", line 1149, in __call__\n\n  File \"/Applications/anaconda3/lib/python3.11/site-packages/keras/src/utils/traceback_utils.py\", line 96, in error_handler\n\n  File \"/Applications/anaconda3/lib/python3.11/site-packages/keras/src/engine/sequential.py\", line 398, in call\n\n  File \"/Applications/anaconda3/lib/python3.11/site-packages/keras/src/engine/functional.py\", line 515, in call\n\n  File \"/Applications/anaconda3/lib/python3.11/site-packages/keras/src/engine/functional.py\", line 672, in _run_internal_graph\n\n  File \"/Applications/anaconda3/lib/python3.11/site-packages/keras/src/utils/traceback_utils.py\", line 65, in error_handler\n\n  File \"/Applications/anaconda3/lib/python3.11/site-packages/keras/src/engine/base_layer.py\", line 1149, in __call__\n\n  File \"/Applications/anaconda3/lib/python3.11/site-packages/keras/src/utils/traceback_utils.py\", line 96, in error_handler\n\n  File \"/Applications/anaconda3/lib/python3.11/site-packages/keras/src/layers/core/dense.py\", line 255, in call\n\n  File \"/Applications/anaconda3/lib/python3.11/site-packages/keras/src/activations.py\", line 306, in relu\n\n  File \"/Applications/anaconda3/lib/python3.11/site-packages/keras/src/backend.py\", line 5397, in relu\n\nMatrix size-incompatible: In[0]: [6,93744], In[1]: [97216,128]\n\t [[{{node sequential/dense/Relu}}]] [Op:__inference_train_function_1006]",
     "output_type": "error",
     "traceback": [
      "\u001b[0;31m---------------------------------------------------------------------------\u001b[0m",
      "\u001b[0;31mInvalidArgumentError\u001b[0m                      Traceback (most recent call last)",
      "Cell \u001b[0;32mIn[16], line 3\u001b[0m\n\u001b[1;32m      1\u001b[0m cnn\u001b[38;5;241m.\u001b[39mcompile(optimizer\u001b[38;5;241m=\u001b[39m\u001b[38;5;124m'\u001b[39m\u001b[38;5;124mAdam\u001b[39m\u001b[38;5;124m'\u001b[39m,loss\u001b[38;5;241m=\u001b[39m\u001b[38;5;124m'\u001b[39m\u001b[38;5;124mbinary_crossentropy\u001b[39m\u001b[38;5;124m'\u001b[39m,metrics\u001b[38;5;241m=\u001b[39m[\u001b[38;5;124m'\u001b[39m\u001b[38;5;124maccuracy\u001b[39m\u001b[38;5;124m'\u001b[39m])\n\u001b[0;32m----> 3\u001b[0m cnn\u001b[38;5;241m.\u001b[39mfit_generator(train,validation_data\u001b[38;5;241m=\u001b[39mvalidation,epochs\u001b[38;5;241m=\u001b[39m\u001b[38;5;241m10\u001b[39m,\n\u001b[1;32m      4\u001b[0m                   steps_per_epoch\u001b[38;5;241m=\u001b[39mtrain\u001b[38;5;241m.\u001b[39msamples\u001b[38;5;241m/\u001b[39m\u001b[38;5;241m/\u001b[39mbatch_size,\n\u001b[1;32m      5\u001b[0m                   validation_steps\u001b[38;5;241m=\u001b[39mvalidation\u001b[38;5;241m.\u001b[39msamples\u001b[38;5;241m/\u001b[39m\u001b[38;5;241m/\u001b[39mbatch_size,\n\u001b[1;32m      6\u001b[0m                   callbacks\u001b[38;5;241m=\u001b[39mcallbacks \n\u001b[1;32m      7\u001b[0m                  )\n",
      "File \u001b[0;32m/Applications/anaconda3/lib/python3.11/site-packages/keras/src/engine/training.py:2889\u001b[0m, in \u001b[0;36mModel.fit_generator\u001b[0;34m(self, generator, steps_per_epoch, epochs, verbose, callbacks, validation_data, validation_steps, validation_freq, class_weight, max_queue_size, workers, use_multiprocessing, shuffle, initial_epoch)\u001b[0m\n\u001b[1;32m   2877\u001b[0m \u001b[38;5;250m\u001b[39m\u001b[38;5;124;03m\"\"\"Fits the model on data yielded batch-by-batch by a Python generator.\u001b[39;00m\n\u001b[1;32m   2878\u001b[0m \n\u001b[1;32m   2879\u001b[0m \u001b[38;5;124;03mDEPRECATED:\u001b[39;00m\n\u001b[1;32m   2880\u001b[0m \u001b[38;5;124;03m  `Model.fit` now supports generators, so there is no longer any need to\u001b[39;00m\n\u001b[1;32m   2881\u001b[0m \u001b[38;5;124;03m  use this endpoint.\u001b[39;00m\n\u001b[1;32m   2882\u001b[0m \u001b[38;5;124;03m\"\"\"\u001b[39;00m\n\u001b[1;32m   2883\u001b[0m warnings\u001b[38;5;241m.\u001b[39mwarn(\n\u001b[1;32m   2884\u001b[0m     \u001b[38;5;124m\"\u001b[39m\u001b[38;5;124m`Model.fit_generator` is deprecated and \u001b[39m\u001b[38;5;124m\"\u001b[39m\n\u001b[1;32m   2885\u001b[0m     \u001b[38;5;124m\"\u001b[39m\u001b[38;5;124mwill be removed in a future version. \u001b[39m\u001b[38;5;124m\"\u001b[39m\n\u001b[1;32m   2886\u001b[0m     \u001b[38;5;124m\"\u001b[39m\u001b[38;5;124mPlease use `Model.fit`, which supports generators.\u001b[39m\u001b[38;5;124m\"\u001b[39m,\n\u001b[1;32m   2887\u001b[0m     stacklevel\u001b[38;5;241m=\u001b[39m\u001b[38;5;241m2\u001b[39m,\n\u001b[1;32m   2888\u001b[0m )\n\u001b[0;32m-> 2889\u001b[0m \u001b[38;5;28;01mreturn\u001b[39;00m \u001b[38;5;28mself\u001b[39m\u001b[38;5;241m.\u001b[39mfit(\n\u001b[1;32m   2890\u001b[0m     generator,\n\u001b[1;32m   2891\u001b[0m     steps_per_epoch\u001b[38;5;241m=\u001b[39msteps_per_epoch,\n\u001b[1;32m   2892\u001b[0m     epochs\u001b[38;5;241m=\u001b[39mepochs,\n\u001b[1;32m   2893\u001b[0m     verbose\u001b[38;5;241m=\u001b[39mverbose,\n\u001b[1;32m   2894\u001b[0m     callbacks\u001b[38;5;241m=\u001b[39mcallbacks,\n\u001b[1;32m   2895\u001b[0m     validation_data\u001b[38;5;241m=\u001b[39mvalidation_data,\n\u001b[1;32m   2896\u001b[0m     validation_steps\u001b[38;5;241m=\u001b[39mvalidation_steps,\n\u001b[1;32m   2897\u001b[0m     validation_freq\u001b[38;5;241m=\u001b[39mvalidation_freq,\n\u001b[1;32m   2898\u001b[0m     class_weight\u001b[38;5;241m=\u001b[39mclass_weight,\n\u001b[1;32m   2899\u001b[0m     max_queue_size\u001b[38;5;241m=\u001b[39mmax_queue_size,\n\u001b[1;32m   2900\u001b[0m     workers\u001b[38;5;241m=\u001b[39mworkers,\n\u001b[1;32m   2901\u001b[0m     use_multiprocessing\u001b[38;5;241m=\u001b[39muse_multiprocessing,\n\u001b[1;32m   2902\u001b[0m     shuffle\u001b[38;5;241m=\u001b[39mshuffle,\n\u001b[1;32m   2903\u001b[0m     initial_epoch\u001b[38;5;241m=\u001b[39minitial_epoch,\n\u001b[1;32m   2904\u001b[0m )\n",
      "File \u001b[0;32m/Applications/anaconda3/lib/python3.11/site-packages/keras/src/utils/traceback_utils.py:70\u001b[0m, in \u001b[0;36mfilter_traceback.<locals>.error_handler\u001b[0;34m(*args, **kwargs)\u001b[0m\n\u001b[1;32m     67\u001b[0m     filtered_tb \u001b[38;5;241m=\u001b[39m _process_traceback_frames(e\u001b[38;5;241m.\u001b[39m__traceback__)\n\u001b[1;32m     68\u001b[0m     \u001b[38;5;66;03m# To get the full stack trace, call:\u001b[39;00m\n\u001b[1;32m     69\u001b[0m     \u001b[38;5;66;03m# `tf.debugging.disable_traceback_filtering()`\u001b[39;00m\n\u001b[0;32m---> 70\u001b[0m     \u001b[38;5;28;01mraise\u001b[39;00m e\u001b[38;5;241m.\u001b[39mwith_traceback(filtered_tb) \u001b[38;5;28;01mfrom\u001b[39;00m \u001b[38;5;28;01mNone\u001b[39;00m\n\u001b[1;32m     71\u001b[0m \u001b[38;5;28;01mfinally\u001b[39;00m:\n\u001b[1;32m     72\u001b[0m     \u001b[38;5;28;01mdel\u001b[39;00m filtered_tb\n",
      "File \u001b[0;32m/Applications/anaconda3/lib/python3.11/site-packages/tensorflow/python/eager/execute.py:60\u001b[0m, in \u001b[0;36mquick_execute\u001b[0;34m(op_name, num_outputs, inputs, attrs, ctx, name)\u001b[0m\n\u001b[1;32m     53\u001b[0m   \u001b[38;5;66;03m# Convert any objects of type core_types.Tensor to Tensor.\u001b[39;00m\n\u001b[1;32m     54\u001b[0m   inputs \u001b[38;5;241m=\u001b[39m [\n\u001b[1;32m     55\u001b[0m       tensor_conversion_registry\u001b[38;5;241m.\u001b[39mconvert(t)\n\u001b[1;32m     56\u001b[0m       \u001b[38;5;28;01mif\u001b[39;00m \u001b[38;5;28misinstance\u001b[39m(t, core_types\u001b[38;5;241m.\u001b[39mTensor)\n\u001b[1;32m     57\u001b[0m       \u001b[38;5;28;01melse\u001b[39;00m t\n\u001b[1;32m     58\u001b[0m       \u001b[38;5;28;01mfor\u001b[39;00m t \u001b[38;5;129;01min\u001b[39;00m inputs\n\u001b[1;32m     59\u001b[0m   ]\n\u001b[0;32m---> 60\u001b[0m   tensors \u001b[38;5;241m=\u001b[39m pywrap_tfe\u001b[38;5;241m.\u001b[39mTFE_Py_Execute(ctx\u001b[38;5;241m.\u001b[39m_handle, device_name, op_name,\n\u001b[1;32m     61\u001b[0m                                       inputs, attrs, num_outputs)\n\u001b[1;32m     62\u001b[0m \u001b[38;5;28;01mexcept\u001b[39;00m core\u001b[38;5;241m.\u001b[39m_NotOkStatusException \u001b[38;5;28;01mas\u001b[39;00m e:\n\u001b[1;32m     63\u001b[0m   \u001b[38;5;28;01mif\u001b[39;00m name \u001b[38;5;129;01mis\u001b[39;00m \u001b[38;5;129;01mnot\u001b[39;00m \u001b[38;5;28;01mNone\u001b[39;00m:\n",
      "\u001b[0;31mInvalidArgumentError\u001b[0m: Graph execution error:\n\nDetected at node sequential/dense/Relu defined at (most recent call last):\n  File \"<frozen runpy>\", line 198, in _run_module_as_main\n\n  File \"<frozen runpy>\", line 88, in _run_code\n\n  File \"/Applications/anaconda3/lib/python3.11/site-packages/ipykernel_launcher.py\", line 17, in <module>\n\n  File \"/Applications/anaconda3/lib/python3.11/site-packages/traitlets/config/application.py\", line 992, in launch_instance\n\n  File \"/Applications/anaconda3/lib/python3.11/site-packages/ipykernel/kernelapp.py\", line 736, in start\n\n  File \"/Applications/anaconda3/lib/python3.11/site-packages/tornado/platform/asyncio.py\", line 195, in start\n\n  File \"/Applications/anaconda3/lib/python3.11/asyncio/base_events.py\", line 607, in run_forever\n\n  File \"/Applications/anaconda3/lib/python3.11/asyncio/base_events.py\", line 1922, in _run_once\n\n  File \"/Applications/anaconda3/lib/python3.11/asyncio/events.py\", line 80, in _run\n\n  File \"/Applications/anaconda3/lib/python3.11/site-packages/ipykernel/kernelbase.py\", line 516, in dispatch_queue\n\n  File \"/Applications/anaconda3/lib/python3.11/site-packages/ipykernel/kernelbase.py\", line 505, in process_one\n\n  File \"/Applications/anaconda3/lib/python3.11/site-packages/ipykernel/kernelbase.py\", line 412, in dispatch_shell\n\n  File \"/Applications/anaconda3/lib/python3.11/site-packages/ipykernel/kernelbase.py\", line 740, in execute_request\n\n  File \"/Applications/anaconda3/lib/python3.11/site-packages/ipykernel/ipkernel.py\", line 422, in do_execute\n\n  File \"/Applications/anaconda3/lib/python3.11/site-packages/ipykernel/zmqshell.py\", line 546, in run_cell\n\n  File \"/Applications/anaconda3/lib/python3.11/site-packages/IPython/core/interactiveshell.py\", line 3024, in run_cell\n\n  File \"/Applications/anaconda3/lib/python3.11/site-packages/IPython/core/interactiveshell.py\", line 3079, in _run_cell\n\n  File \"/Applications/anaconda3/lib/python3.11/site-packages/IPython/core/async_helpers.py\", line 129, in _pseudo_sync_runner\n\n  File \"/Applications/anaconda3/lib/python3.11/site-packages/IPython/core/interactiveshell.py\", line 3284, in run_cell_async\n\n  File \"/Applications/anaconda3/lib/python3.11/site-packages/IPython/core/interactiveshell.py\", line 3466, in run_ast_nodes\n\n  File \"/Applications/anaconda3/lib/python3.11/site-packages/IPython/core/interactiveshell.py\", line 3526, in run_code\n\n  File \"/var/folders/w5/y4zxnb0130zgls3vnryxcytr0000gn/T/ipykernel_11233/1113602051.py\", line 3, in <module>\n\n  File \"/Applications/anaconda3/lib/python3.11/site-packages/keras/src/engine/training.py\", line 2889, in fit_generator\n\n  File \"/Applications/anaconda3/lib/python3.11/site-packages/keras/src/utils/traceback_utils.py\", line 65, in error_handler\n\n  File \"/Applications/anaconda3/lib/python3.11/site-packages/keras/src/engine/training.py\", line 1783, in fit\n\n  File \"/Applications/anaconda3/lib/python3.11/site-packages/keras/src/engine/training.py\", line 1377, in train_function\n\n  File \"/Applications/anaconda3/lib/python3.11/site-packages/keras/src/engine/training.py\", line 1360, in step_function\n\n  File \"/Applications/anaconda3/lib/python3.11/site-packages/keras/src/engine/training.py\", line 1349, in run_step\n\n  File \"/Applications/anaconda3/lib/python3.11/site-packages/keras/src/engine/training.py\", line 1126, in train_step\n\n  File \"/Applications/anaconda3/lib/python3.11/site-packages/keras/src/utils/traceback_utils.py\", line 65, in error_handler\n\n  File \"/Applications/anaconda3/lib/python3.11/site-packages/keras/src/engine/training.py\", line 589, in __call__\n\n  File \"/Applications/anaconda3/lib/python3.11/site-packages/keras/src/utils/traceback_utils.py\", line 65, in error_handler\n\n  File \"/Applications/anaconda3/lib/python3.11/site-packages/keras/src/engine/base_layer.py\", line 1149, in __call__\n\n  File \"/Applications/anaconda3/lib/python3.11/site-packages/keras/src/utils/traceback_utils.py\", line 96, in error_handler\n\n  File \"/Applications/anaconda3/lib/python3.11/site-packages/keras/src/engine/sequential.py\", line 398, in call\n\n  File \"/Applications/anaconda3/lib/python3.11/site-packages/keras/src/engine/functional.py\", line 515, in call\n\n  File \"/Applications/anaconda3/lib/python3.11/site-packages/keras/src/engine/functional.py\", line 672, in _run_internal_graph\n\n  File \"/Applications/anaconda3/lib/python3.11/site-packages/keras/src/utils/traceback_utils.py\", line 65, in error_handler\n\n  File \"/Applications/anaconda3/lib/python3.11/site-packages/keras/src/engine/base_layer.py\", line 1149, in __call__\n\n  File \"/Applications/anaconda3/lib/python3.11/site-packages/keras/src/utils/traceback_utils.py\", line 96, in error_handler\n\n  File \"/Applications/anaconda3/lib/python3.11/site-packages/keras/src/layers/core/dense.py\", line 255, in call\n\n  File \"/Applications/anaconda3/lib/python3.11/site-packages/keras/src/activations.py\", line 306, in relu\n\n  File \"/Applications/anaconda3/lib/python3.11/site-packages/keras/src/backend.py\", line 5397, in relu\n\nMatrix size-incompatible: In[0]: [6,93744], In[1]: [97216,128]\n\t [[{{node sequential/dense/Relu}}]] [Op:__inference_train_function_1006]"
     ]
    }
   ],
   "source": [
    "cnn.compile(optimizer='Adam',loss='binary_crossentropy',metrics=['accuracy'])\n",
    "\n",
    "cnn.fit_generator(train,validation_data=validation,epochs=10,\n",
    "                  steps_per_epoch=train.samples//batch_size,\n",
    "                  validation_steps=validation.samples//batch_size,\n",
    "                  callbacks=callbacks \n",
    "                 )\n",
    "     "
   ]
  },
  {
   "cell_type": "markdown",
   "id": "568de151",
   "metadata": {},
   "source": [
    "cnn.compile(optimizer='adam',loss='binary_crossentropy',metrics=['accuracy'])\n",
    "cnn.fit_generator(train,validation_data=validation,training_datagenerator,epochs=10,steps_per_epoch=train.samples//batch_size,\n",
    "                  validation_steps=validation.samples//batch_size,callbacks=callbacks)\n",
    "                 "
   ]
  },
  {
   "cell_type": "markdown",
   "id": "0a0da447",
   "metadata": {},
   "source": [
    "cnn.compile(optimizer='adam', loss='binary_crossentropy', metrics=['accuracy'])\n",
    "\n",
    "cnn.fit_generator(\n",
    "    train,\n",
    "    validation_data=validation,\n",
    "    epochs=10,\n",
    "    callbacks=callbacks\n",
    ")\n"
   ]
  },
  {
   "cell_type": "code",
   "execution_count": null,
   "id": "9320378d",
   "metadata": {},
   "outputs": [],
   "source": [
    "from tensorflow.keras.preprocessing import image\n"
   ]
  },
  {
   "cell_type": "code",
   "execution_count": null,
   "id": "7fa150a8",
   "metadata": {},
   "outputs": [],
   "source": [
    "test_image=image.load_img('/Users/vallirajasekar/Desktop/Deep_Learning/Image_Project/Smoke Fire Learning Project/Image/train_fire/fire-2393.87750223.png',\n",
    "                         target_size=(224,224))\n"
   ]
  },
  {
   "cell_type": "code",
   "execution_count": null,
   "id": "ce6d73ef",
   "metadata": {},
   "outputs": [],
   "source": [
    "test_image=image.img_to_array(test_image)"
   ]
  },
  {
   "cell_type": "code",
   "execution_count": null,
   "id": "def09764",
   "metadata": {},
   "outputs": [],
   "source": [
    "test_image=test_image/255"
   ]
  },
  {
   "cell_type": "code",
   "execution_count": null,
   "id": "7635b513",
   "metadata": {},
   "outputs": [],
   "source": [
    "test_image=np.expand_dims(test_image,axis=0)"
   ]
  },
  {
   "cell_type": "code",
   "execution_count": null,
   "id": "a2971d08",
   "metadata": {},
   "outputs": [],
   "source": [
    "result=cnn.predict(test_image)"
   ]
  },
  {
   "cell_type": "code",
   "execution_count": null,
   "id": "50d65988",
   "metadata": {},
   "outputs": [],
   "source": []
  }
 ],
 "metadata": {
  "kernelspec": {
   "display_name": "Python 3 (ipykernel)",
   "language": "python",
   "name": "python3"
  },
  "language_info": {
   "codemirror_mode": {
    "name": "ipython",
    "version": 3
   },
   "file_extension": ".py",
   "mimetype": "text/x-python",
   "name": "python",
   "nbconvert_exporter": "python",
   "pygments_lexer": "ipython3",
   "version": "3.11.5"
  }
 },
 "nbformat": 4,
 "nbformat_minor": 5
}
